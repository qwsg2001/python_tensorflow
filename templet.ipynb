{
 "cells": [
  {
   "cell_type": "code",
   "execution_count": 23,
   "id": "fae9b65b-2784-4de5-a165-6401ca1a8360",
   "metadata": {},
   "outputs": [],
   "source": [
    "import cv2 as cv\n",
    "import numpy as np"
   ]
  },
  {
   "cell_type": "code",
   "execution_count": 24,
   "id": "909523cf-a1ca-4cb7-89be-00adeca8d978",
   "metadata": {},
   "outputs": [],
   "source": [
    "img_rgb = cv.imread('images/test.png')\n",
    "img_gray = cv.cvtColor(img_rgb, cv.COLOR_BGR2GRAY)"
   ]
  },
  {
   "cell_type": "code",
   "execution_count": 25,
   "id": "460dc812-6c88-4311-b5cd-b679c34accf3",
   "metadata": {},
   "outputs": [],
   "source": [
    "template1 = cv.imread('images/1_tree_big_1.png', 0)\n",
    "template2 = cv.imread('images/1_tree_little_1.png', 0)\n",
    "template3 = cv.imread('images/1_Bird_Down.png', 0)\n",
    "template4 = cv.imread('images/1_Bird_Up.png', 0)"
   ]
  },
  {
   "cell_type": "code",
   "execution_count": 26,
   "id": "414a1986-0f47-4d50-8ac1-43547e11658b",
   "metadata": {},
   "outputs": [],
   "source": [
    "w1, h1 = template1.shape[::-1]\n",
    "w2, h2 = template2.shape[::-1]\n",
    "w3, h3 = template3.shape[::-1]\n",
    "w4, h4 = template4.shape[::-1]"
   ]
  },
  {
   "cell_type": "code",
   "execution_count": 27,
   "id": "ad4c5755-314a-40bb-832c-94021bc50263",
   "metadata": {},
   "outputs": [],
   "source": [
    "res1 = cv.matchTemplate(img_gray, template1, cv.TM_CCOEFF_NORMED)\n",
    "res2 = cv.matchTemplate(img_gray, template2, cv.TM_CCOEFF_NORMED)\n",
    "res3 = cv.matchTemplate(img_gray, template3, cv.TM_CCOEFF_NORMED)\n",
    "res4 = cv.matchTemplate(img_gray, template4, cv.TM_CCOEFF_NORMED)"
   ]
  },
  {
   "cell_type": "code",
   "execution_count": 28,
   "id": "1e57bd53-b4ea-46df-8553-c6aeee51052b",
   "metadata": {},
   "outputs": [],
   "source": [
    "threshold = 0.8\n",
    "loc1 = np.where(res1 >= threshold)\n",
    "loc2 = np.where(res2 >= threshold)\n",
    "loc3 = np.where(res3 >= threshold)\n",
    "loc4 = np.where(res4 >= threshold)"
   ]
  },
  {
   "cell_type": "code",
   "execution_count": 29,
   "id": "95e6e209-6c25-4a57-aa53-7f626f9a2084",
   "metadata": {},
   "outputs": [],
   "source": [
    "for pt in zip(*loc1[::-1]):\n",
    "    cv.rectangle(img_rgb, pt, (pt[0] + w1, pt[1] + h1), (0, 0, 255), 2)\n",
    "\n",
    "for pt in zip(*loc2[::-1]):\n",
    "    cv.rectangle(img_rgb, pt, (pt[0] + w2, pt[1] + h2), (0, 255, 0), 2)\n",
    "\n",
    "for pt in zip(*loc3[::-1]):\n",
    "    cv.rectangle(img_rgb, pt, (pt[0] + w3, pt[1] + h3), (0, 0, 255), 2)\n",
    "\n",
    "for pt in zip(*loc4[::-1]):\n",
    "    cv.rectangle(img_rgb, pt, (pt[0] + w4, pt[1] + h4), (0, 255, 0), 2)"
   ]
  },
  {
   "cell_type": "code",
   "execution_count": 30,
   "id": "be6402fd-b42a-4ece-aec9-21029acb75b6",
   "metadata": {},
   "outputs": [
    {
     "data": {
      "text/plain": [
       "-1"
      ]
     },
     "execution_count": 30,
     "metadata": {},
     "output_type": "execute_result"
    }
   ],
   "source": [
    "cv.imshow('result', img_rgb)\n",
    "cv.waitKey(0)"
   ]
  }
 ],
 "metadata": {
  "kernelspec": {
   "display_name": "Python 3 (ipykernel)",
   "language": "python",
   "name": "python3"
  },
  "language_info": {
   "codemirror_mode": {
    "name": "ipython",
    "version": 3
   },
   "file_extension": ".py",
   "mimetype": "text/x-python",
   "name": "python",
   "nbconvert_exporter": "python",
   "pygments_lexer": "ipython3",
   "version": "3.8.17"
  }
 },
 "nbformat": 4,
 "nbformat_minor": 5
}
