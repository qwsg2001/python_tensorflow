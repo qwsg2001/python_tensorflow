{
 "cells": [
  {
   "cell_type": "code",
   "execution_count": 3,
   "id": "2ad6e953",
   "metadata": {},
   "outputs": [],
   "source": [
    "import cv2 as cv\n",
    "import numpy as np"
   ]
  },
  {
   "cell_type": "code",
   "execution_count": 4,
   "id": "6f3d4089",
   "metadata": {},
   "outputs": [],
   "source": [
    "img_rgb = cv.imread('images/test.png')\n",
    "img_gray = cv.cvtColor(img_rgb, cv.COLOR_BGR2GRAY)"
   ]
  },
  {
   "cell_type": "code",
   "execution_count": 5,
   "id": "f35a9932",
   "metadata": {},
   "outputs": [],
   "source": [
    "template1 = cv.imread('images/1_Bird_Down.png', 0)\n",
    "template2 = cv.imread('images/1_Bird_Up.png', 0)"
   ]
  },
  {
   "cell_type": "code",
   "execution_count": 6,
   "id": "cf610d7e",
   "metadata": {},
   "outputs": [],
   "source": [
    "template3 = cv.imread('images/1_tree_4.png', 0)\n",
    "template4 = cv.imread('images/1_tree_big_1.png', 0)\n",
    "template5 = cv.imread('images/1_tree_big_2.png', 0)\n",
    "template6 = cv.imread('images/1_tree_little_1.png', 0)\n",
    "template7 = cv.imread('images/1_tree_little_2.png', 0)\n",
    "template8 = cv.imread('images/1_tree_little_3.png', 0)"
   ]
  },
  {
   "cell_type": "code",
   "execution_count": 7,
   "id": "ec0af22a",
   "metadata": {},
   "outputs": [],
   "source": [
    "template9 = cv.imread('images/2_Bird_Down.png', 0)\n",
    "template10 = cv.imread('images/2_Bird_Up.png', 0)"
   ]
  },
  {
   "cell_type": "code",
   "execution_count": 8,
   "id": "357d32c4",
   "metadata": {},
   "outputs": [],
   "source": [
    "template11 = cv.imread('images/2_tree_4.png', 0)\n",
    "template12 = cv.imread('images/2_tree_big_1.png', 0)\n",
    "template13 = cv.imread('images/2_tree_big_2.png', 0)\n",
    "template14 = cv.imread('images/2_tree_little_1.png', 0)\n",
    "template15 = cv.imread('images/2_tree_little_2.png', 0)\n",
    "template16 = cv.imread('images/2_tree_little_3.png', 0)"
   ]
  },
  {
   "cell_type": "code",
   "execution_count": 9,
   "id": "f50f60c2",
   "metadata": {},
   "outputs": [],
   "source": [
    "for i in range(1, 17):\n",
    "    locals()[\"w\" + str(i)], locals()[\"h\" + str(i)] = locals()[\"template\" + str(i)].shape[::-1]"
   ]
  },
  {
   "cell_type": "code",
   "execution_count": 10,
   "id": "e694f67c",
   "metadata": {},
   "outputs": [],
   "source": [
    "for i in range(1, 17):\n",
    "    locals()[\"res\" + str(i)] = cv.matchTemplate(img_gray, locals()[\"template\" + str(i)], cv.TM_CCOEFF_NORMED)"
   ]
  },
  {
   "cell_type": "code",
   "execution_count": 11,
   "id": "bdd68116",
   "metadata": {},
   "outputs": [],
   "source": [
    "threshold = 0.8\n",
    "\n",
    "for i in range(1, 17):\n",
    "    locals()[\"loc\" + str(i)] = np.where(locals()[\"res\" + str(i)] >= threshold)"
   ]
  },
  {
   "cell_type": "code",
   "execution_count": 12,
   "id": "2f8475bc",
   "metadata": {},
   "outputs": [],
   "source": [
    "for i in range(1, 9):\n",
    "    for pt in zip(*locals()[\"loc\"+str(i)][::-1]):\n",
    "        cv.rectangle(img_rgb, pt, (pt[0] + locals()[\"w\" + str(i)], pt[1] + locals()[\"h\" + str(i)]), (0, 255, 0), 1)"
   ]
  },
  {
   "cell_type": "code",
   "execution_count": 13,
   "id": "eae89f89",
   "metadata": {},
   "outputs": [],
   "source": [
    "for i in range(9, 17):\n",
    "    for pt in zip(*locals()[\"loc\"+str(i)][::-1]):\n",
    "        cv.rectangle(img_rgb, pt, (pt[0] + locals()[\"w\" + str(i)], pt[1] + locals()[\"h\" + str(i)]), (255, 0, 0), 1)"
   ]
  },
  {
   "cell_type": "code",
   "execution_count": 14,
   "id": "1c681eb1",
   "metadata": {},
   "outputs": [
    {
     "data": {
      "text/plain": [
       "-1"
      ]
     },
     "execution_count": 14,
     "metadata": {},
     "output_type": "execute_result"
    }
   ],
   "source": [
    "cv.imshow('result', img_rgb)\n",
    "cv.waitKey(0)"
   ]
  },
  {
   "cell_type": "code",
   "execution_count": null,
   "id": "26684428",
   "metadata": {},
   "outputs": [],
   "source": []
  }
 ],
 "metadata": {
  "kernelspec": {
   "display_name": "Python 3 (ipykernel)",
   "language": "python",
   "name": "python3"
  },
  "language_info": {
   "codemirror_mode": {
    "name": "ipython",
    "version": 3
   },
   "file_extension": ".py",
   "mimetype": "text/x-python",
   "name": "python",
   "nbconvert_exporter": "python",
   "pygments_lexer": "ipython3",
   "version": "3.11.4"
  }
 },
 "nbformat": 4,
 "nbformat_minor": 5
}
