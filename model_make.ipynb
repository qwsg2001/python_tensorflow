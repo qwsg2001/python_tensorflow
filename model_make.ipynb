{
 "cells": [
  {
   "cell_type": "code",
   "execution_count": 1,
   "id": "2ed755a0-42ad-4a73-b603-06ab242fe0cb",
   "metadata": {},
   "outputs": [],
   "source": [
    "from keras.models import Sequential\n",
    "from keras.layers import Dense\n",
    "from keras.callbacks import ModelCheckpoint, EarlyStopping\n",
    "from keras.optimizers import Adam"
   ]
  },
  {
   "cell_type": "code",
   "execution_count": 2,
   "id": "dc39ebdb-3f2e-4a3b-8c87-b162e28ffbab",
   "metadata": {},
   "outputs": [],
   "source": [
    "import pandas as pd\n",
    "import numpy\n",
    "import tensorflow as tf\n",
    "import matplotlib.pyplot as plt"
   ]
  },
  {
   "cell_type": "code",
   "execution_count": 3,
   "id": "f5ec97c4-afbc-44f8-a8e9-b1f5189c517e",
   "metadata": {},
   "outputs": [],
   "source": [
    "# seed 값 설정\n",
    "seed = 0\n",
    "numpy.random.seed(seed)\n",
    "tf.random.set_seed(seed)"
   ]
  },
  {
   "cell_type": "code",
   "execution_count": 4,
   "id": "090e6912-260c-4818-82a6-b1fb70c41448",
   "metadata": {},
   "outputs": [],
   "source": [
    "# 데이터 입력\n",
    "df_pre = pd.read_csv('dino2.csv', header=None)\n",
    "df = df_pre.sample(frac=1)"
   ]
  },
  {
   "cell_type": "code",
   "execution_count": 5,
   "id": "68b25162-7b6a-494a-81f5-6e3c3238fb32",
   "metadata": {},
   "outputs": [],
   "source": [
    "dataset = df.values\n",
    "X = dataset[:,0:6]\n",
    "Y = dataset[:,6]"
   ]
  },
  {
   "cell_type": "code",
   "execution_count": 6,
   "id": "23bcd259-0ac5-4580-9c70-45e2e3ebce76",
   "metadata": {},
   "outputs": [],
   "source": [
    "# 모델 설정\n",
    "model = Sequential()\n",
    "model.add(Dense(30,  input_dim=6, activation='relu'))\n",
    "model.add(Dense(12, activation='relu'))\n",
    "model.add(Dense(8, activation='relu'))\n",
    "model.add(Dense(1, activation='sigmoid'))"
   ]
  },
  {
   "cell_type": "code",
   "execution_count": 7,
   "id": "6c75b4bc-1f19-4999-af6e-c13abbf8dc5e",
   "metadata": {},
   "outputs": [],
   "source": [
    "#모델 컴파일\n",
    "optimizer = Adam(learning_rate = 1e-4)\n",
    "\n",
    "model.compile(loss='binary_crossentropy',\n",
    "           optimizer=optimizer,\n",
    "           metrics=['accuracy'])"
   ]
  },
  {
   "cell_type": "code",
   "execution_count": 8,
   "id": "b9a3fa07-5e43-4d8d-baed-c0e9f3805618",
   "metadata": {},
   "outputs": [
    {
     "name": "stdout",
     "output_type": "stream",
     "text": [
      "Epoch 1/30\n",
      "7/7 [==============================] - 1s 2ms/step - loss: 0.1810 - accuracy: 1.0000\n",
      "Epoch 2/30\n",
      "7/7 [==============================] - 0s 2ms/step - loss: 0.1803 - accuracy: 1.0000\n",
      "Epoch 3/30\n",
      "7/7 [==============================] - 0s 1ms/step - loss: 0.1795 - accuracy: 1.0000\n",
      "Epoch 4/30\n",
      "7/7 [==============================] - 0s 2ms/step - loss: 0.1787 - accuracy: 1.0000\n",
      "Epoch 5/30\n",
      "7/7 [==============================] - 0s 2ms/step - loss: 0.1778 - accuracy: 1.0000\n",
      "Epoch 6/30\n",
      "7/7 [==============================] - 0s 2ms/step - loss: 0.1770 - accuracy: 1.0000\n",
      "Epoch 7/30\n",
      "7/7 [==============================] - 0s 2ms/step - loss: 0.1762 - accuracy: 1.0000\n",
      "Epoch 8/30\n",
      "7/7 [==============================] - 0s 1ms/step - loss: 0.1753 - accuracy: 1.0000\n",
      "Epoch 9/30\n",
      "7/7 [==============================] - 0s 2ms/step - loss: 0.1745 - accuracy: 1.0000\n",
      "Epoch 10/30\n",
      "7/7 [==============================] - 0s 2ms/step - loss: 0.1736 - accuracy: 1.0000\n",
      "Epoch 11/30\n",
      "7/7 [==============================] - 0s 2ms/step - loss: 0.1727 - accuracy: 1.0000\n",
      "Epoch 12/30\n",
      "7/7 [==============================] - 0s 2ms/step - loss: 0.1717 - accuracy: 1.0000\n",
      "Epoch 13/30\n",
      "7/7 [==============================] - 0s 1ms/step - loss: 0.1708 - accuracy: 1.0000\n",
      "Epoch 14/30\n",
      "7/7 [==============================] - 0s 2ms/step - loss: 0.1699 - accuracy: 1.0000\n",
      "Epoch 15/30\n",
      "7/7 [==============================] - 0s 2ms/step - loss: 0.1689 - accuracy: 1.0000\n",
      "Epoch 16/30\n",
      "7/7 [==============================] - 0s 1ms/step - loss: 0.1679 - accuracy: 1.0000\n",
      "Epoch 17/30\n",
      "7/7 [==============================] - 0s 2ms/step - loss: 0.1669 - accuracy: 1.0000\n",
      "Epoch 18/30\n",
      "7/7 [==============================] - 0s 3ms/step - loss: 0.1659 - accuracy: 1.0000\n",
      "Epoch 19/30\n",
      "7/7 [==============================] - 0s 2ms/step - loss: 0.1649 - accuracy: 1.0000\n",
      "Epoch 20/30\n",
      "7/7 [==============================] - 0s 2ms/step - loss: 0.1638 - accuracy: 1.0000\n",
      "Epoch 21/30\n",
      "7/7 [==============================] - 0s 2ms/step - loss: 0.1628 - accuracy: 1.0000\n",
      "Epoch 22/30\n",
      "7/7 [==============================] - 0s 2ms/step - loss: 0.1617 - accuracy: 1.0000\n",
      "Epoch 23/30\n",
      "7/7 [==============================] - 0s 2ms/step - loss: 0.1606 - accuracy: 1.0000\n",
      "Epoch 24/30\n",
      "7/7 [==============================] - 0s 2ms/step - loss: 0.1595 - accuracy: 1.0000\n",
      "Epoch 25/30\n",
      "7/7 [==============================] - 0s 2ms/step - loss: 0.1584 - accuracy: 1.0000\n",
      "Epoch 26/30\n",
      "7/7 [==============================] - 0s 2ms/step - loss: 0.1572 - accuracy: 1.0000\n",
      "Epoch 27/30\n",
      "7/7 [==============================] - 0s 2ms/step - loss: 0.1561 - accuracy: 1.0000\n",
      "Epoch 28/30\n",
      "7/7 [==============================] - 0s 2ms/step - loss: 0.1549 - accuracy: 1.0000\n",
      "Epoch 29/30\n",
      "7/7 [==============================] - 0s 2ms/step - loss: 0.1537 - accuracy: 1.0000\n",
      "Epoch 30/30\n",
      "7/7 [==============================] - 0s 1ms/step - loss: 0.1525 - accuracy: 1.0000\n"
     ]
    },
    {
     "data": {
      "text/plain": [
       "<keras.src.callbacks.History at 0x1ac01707410>"
      ]
     },
     "execution_count": 8,
     "metadata": {},
     "output_type": "execute_result"
    }
   ],
   "source": [
    "# 모델 실행\n",
    "model.fit(X, Y, epochs=30, batch_size=50)"
   ]
  },
  {
   "cell_type": "code",
   "execution_count": 9,
   "id": "8dae8e83-ec0d-4815-9f40-b7f80364080e",
   "metadata": {},
   "outputs": [
    {
     "name": "stderr",
     "output_type": "stream",
     "text": [
      "C:\\Users\\COMPUTER\\anaconda3\\Lib\\site-packages\\keras\\src\\engine\\training.py:3000: UserWarning: You are saving your model as an HDF5 file via `model.save()`. This file format is considered legacy. We recommend using instead the native Keras format, e.g. `model.save('my_model.keras')`.\n",
      "  saving_api.save_model(\n"
     ]
    }
   ],
   "source": [
    "model.save('dino2.h5')"
   ]
  },
  {
   "cell_type": "code",
   "execution_count": 10,
   "id": "4e8deda3-dc0b-4d13-9137-92b134b45847",
   "metadata": {},
   "outputs": [
    {
     "name": "stdout",
     "output_type": "stream",
     "text": [
      "11/11 [==============================] - 0s 1ms/step - loss: 0.1518 - accuracy: 1.0000\n",
      "\n",
      " Accuracy: 1.0000\n"
     ]
    }
   ],
   "source": [
    "# 결과 출력\n",
    "print(\"\\n Accuracy: %.4f\" % (model.evaluate(X, Y)[1]))"
   ]
  },
  {
   "cell_type": "code",
   "execution_count": null,
   "id": "386048fd-a2b5-40f6-bf88-6c4497ce6fe4",
   "metadata": {},
   "outputs": [],
   "source": []
  }
 ],
 "metadata": {
  "kernelspec": {
   "display_name": "Python 3 (ipykernel)",
   "language": "python",
   "name": "python3"
  },
  "language_info": {
   "codemirror_mode": {
    "name": "ipython",
    "version": 3
   },
   "file_extension": ".py",
   "mimetype": "text/x-python",
   "name": "python",
   "nbconvert_exporter": "python",
   "pygments_lexer": "ipython3",
   "version": "3.11.4"
  }
 },
 "nbformat": 4,
 "nbformat_minor": 5
}
